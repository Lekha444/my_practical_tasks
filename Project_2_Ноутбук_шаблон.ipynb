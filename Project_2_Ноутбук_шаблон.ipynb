{
  "cells": [
    {
      "cell_type": "markdown",
      "id": "42289889-bd57-434e-9637-d3e354756316",
      "metadata": {
        "id": "42289889-bd57-434e-9637-d3e354756316"
      },
      "source": [
        "<center> <img src = https://raw.githubusercontent.com/AndreyRysistov/DatasetsForPandas/main/hh%20label.jpg alt=\"drawing\" style=\"width:400px;\">"
      ]
    },
    {
      "cell_type": "markdown",
      "id": "829cb75b-f14e-4ba8-9195-7ba929a7d656",
      "metadata": {
        "id": "829cb75b-f14e-4ba8-9195-7ba929a7d656",
        "tags": []
      },
      "source": [
        "# <center> Проект: Анализ вакансий из HeadHunter\n",
        "   "
      ]
    },
    {
      "cell_type": "code",
      "execution_count": 16,
      "id": "dccfde33-2452-43fb-a8a5-5c6ebc02a71d",
      "metadata": {
        "id": "dccfde33-2452-43fb-a8a5-5c6ebc02a71d"
      },
      "outputs": [],
      "source": [
        "import requests\n",
        "from bs4 import BeautifulSoup\n",
        "import pandas as pd\n",
        "import psycopg2\n"
      ]
    },
    {
      "cell_type": "code",
      "execution_count": 17,
      "id": "oVKH4ehvf8Ay",
      "metadata": {
        "id": "oVKH4ehvf8Ay"
      },
      "outputs": [],
      "source": [
        "# вставьте сюда параметры подключения из юнита 1. Работа с базой данных из Python \n",
        "\n",
        "DBNAME = 'project_sql'\n",
        "USER = 'skillfactory'\n",
        "PASSWORD = '",
        "HOST = '84.201.134.129'\n",
        "PORT = 5432"
      ]
    },
    {
      "cell_type": "code",
      "execution_count": 18,
      "id": "G4X_q8KBf7SF",
      "metadata": {
        "id": "G4X_q8KBf7SF"
      },
      "outputs": [],
      "source": [
        "connection = psycopg2.connect(\n",
        "    dbname=DBNAME,\n",
        "    user=USER,\n",
        "    host=HOST,\n",
        "    password=PASSWORD,\n",
        "    port=PORT\n",
        ")"
      ]
    },
    {
      "cell_type": "markdown",
      "id": "0dc6476b-7a00-44f1-ac93-6e3baed33a29",
      "metadata": {
        "id": "0dc6476b-7a00-44f1-ac93-6e3baed33a29"
      },
      "source": [
        "# Юнит 3. Предварительный анализ данных"
      ]
    },
    {
      "cell_type": "markdown",
      "id": "889782b6-8d1c-410e-8920-e57f27917c64",
      "metadata": {
        "id": "889782b6-8d1c-410e-8920-e57f27917c64"
      },
      "source": [
        "1. Напишите запрос, который посчитает количество вакансий в нашей базе (вакансии находятся в таблице vacancies). "
      ]
    },
    {
      "cell_type": "code",
      "execution_count": 19,
      "id": "bc39e68e-ed02-4ee2-9235-7258a2f867a8",
      "metadata": {
        "id": "bc39e68e-ed02-4ee2-9235-7258a2f867a8"
      },
      "outputs": [],
      "source": [
        "# текст запроса\n",
        "query = \"\"\"\n",
        "    SELECT COUNT(*) AS vacancy_count\n",
        "    FROM public.vacancies;\n",
        "\"\"\""
      ]
    },
    {
      "cell_type": "code",
      "execution_count": 20,
      "id": "7mAwtsk4hEHY",
      "metadata": {
        "id": "7mAwtsk4hEHY"
      },
      "outputs": [
        {
          "name": "stdout",
          "output_type": "stream",
          "text": [
            "Количество вакансий в базе: 49197\n"
          ]
        },
        {
          "name": "stderr",
          "output_type": "stream",
          "text": [
            "C:\\Users\\zakha\\AppData\\Local\\Temp\\ipykernel_14364\\3765153580.py:2: UserWarning: pandas only supports SQLAlchemy connectable (engine/connection) or database string URI or sqlite3 DBAPI2 connection. Other DBAPI2 objects are not tested. Please consider using SQLAlchemy.\n",
            "  df = pd.read_sql_query(query, connection)\n"
          ]
        }
      ],
      "source": [
        "# результат запроса\n",
        "df = pd.read_sql_query(query, connection)\n",
        "\n",
        "# Вывод результата\n",
        "print(f\"Количество вакансий в базе: {df['vacancy_count'][0]}\")\n",
        "\n",
        "# Закрываем соединение\n",
        "connection.close()"
      ]
    },
    {
      "cell_type": "markdown",
      "id": "b583485d-1f9e-494e-ada4-80ffff7c53d6",
      "metadata": {
        "id": "b583485d-1f9e-494e-ada4-80ffff7c53d6"
      },
      "source": [
        "2. Напишите запрос, который посчитает количество работодателей (таблица employers). "
      ]
    },
    {
      "cell_type": "code",
      "execution_count": 21,
      "id": "5408c52c-3407-4a63-b25b-1aafa2322d28",
      "metadata": {
        "id": "5408c52c-3407-4a63-b25b-1aafa2322d28"
      },
      "outputs": [],
      "source": [
        "# текст запроса\n",
        "query = \"\"\"\n",
        "    SELECT COUNT(DISTINCT id) AS employer_count\n",
        "    FROM public.employers;\n",
        "\"\"\"\n"
      ]
    },
    {
      "cell_type": "code",
      "execution_count": 22,
      "id": "jVL4eshKhdqc",
      "metadata": {
        "id": "jVL4eshKhdqc"
      },
      "outputs": [
        {
          "name": "stderr",
          "output_type": "stream",
          "text": [
            "C:\\Users\\zakha\\AppData\\Local\\Temp\\ipykernel_14364\\323419175.py:2: UserWarning: pandas only supports SQLAlchemy connectable (engine/connection) or database string URI or sqlite3 DBAPI2 connection. Other DBAPI2 objects are not tested. Please consider using SQLAlchemy.\n",
            "  df = pd.read_sql_query(query, connection)\n"
          ]
        },
        {
          "ename": "InterfaceError",
          "evalue": "connection already closed",
          "output_type": "error",
          "traceback": [
            "\u001b[1;31m---------------------------------------------------------------------------\u001b[0m",
            "\u001b[1;31mInterfaceError\u001b[0m                            Traceback (most recent call last)",
            "Cell \u001b[1;32mIn[22], line 2\u001b[0m\n\u001b[0;32m      1\u001b[0m \u001b[38;5;66;03m# результат запроса\u001b[39;00m\n\u001b[1;32m----> 2\u001b[0m df \u001b[38;5;241m=\u001b[39m \u001b[43mpd\u001b[49m\u001b[38;5;241;43m.\u001b[39;49m\u001b[43mread_sql_query\u001b[49m\u001b[43m(\u001b[49m\u001b[43mquery\u001b[49m\u001b[43m,\u001b[49m\u001b[43m \u001b[49m\u001b[43mconnection\u001b[49m\u001b[43m)\u001b[49m\n\u001b[0;32m      4\u001b[0m \u001b[38;5;66;03m# Вывод результата\u001b[39;00m\n\u001b[0;32m      5\u001b[0m \u001b[38;5;28mprint\u001b[39m(\u001b[38;5;124mf\u001b[39m\u001b[38;5;124m\"\u001b[39m\u001b[38;5;124mКоличество работодателей в базе: \u001b[39m\u001b[38;5;132;01m{\u001b[39;00mdf[\u001b[38;5;124m'\u001b[39m\u001b[38;5;124memployer_count\u001b[39m\u001b[38;5;124m'\u001b[39m][\u001b[38;5;241m0\u001b[39m]\u001b[38;5;132;01m}\u001b[39;00m\u001b[38;5;124m\"\u001b[39m)\n",
            "File \u001b[1;32mc:\\Users\\zakha\\AppData\\Local\\Programs\\Python\\Python38\\lib\\site-packages\\pandas\\io\\sql.py:469\u001b[0m, in \u001b[0;36mread_sql_query\u001b[1;34m(sql, con, index_col, coerce_float, params, parse_dates, chunksize, dtype, dtype_backend)\u001b[0m\n\u001b[0;32m    466\u001b[0m     dtype_backend \u001b[38;5;241m=\u001b[39m \u001b[38;5;124m\"\u001b[39m\u001b[38;5;124mnumpy\u001b[39m\u001b[38;5;124m\"\u001b[39m  \u001b[38;5;66;03m# type: ignore[assignment]\u001b[39;00m\n\u001b[0;32m    468\u001b[0m \u001b[38;5;28;01mwith\u001b[39;00m pandasSQL_builder(con) \u001b[38;5;28;01mas\u001b[39;00m pandas_sql:\n\u001b[1;32m--> 469\u001b[0m     \u001b[38;5;28;01mreturn\u001b[39;00m \u001b[43mpandas_sql\u001b[49m\u001b[38;5;241;43m.\u001b[39;49m\u001b[43mread_query\u001b[49m\u001b[43m(\u001b[49m\n\u001b[0;32m    470\u001b[0m \u001b[43m        \u001b[49m\u001b[43msql\u001b[49m\u001b[43m,\u001b[49m\n\u001b[0;32m    471\u001b[0m \u001b[43m        \u001b[49m\u001b[43mindex_col\u001b[49m\u001b[38;5;241;43m=\u001b[39;49m\u001b[43mindex_col\u001b[49m\u001b[43m,\u001b[49m\n\u001b[0;32m    472\u001b[0m \u001b[43m        \u001b[49m\u001b[43mparams\u001b[49m\u001b[38;5;241;43m=\u001b[39;49m\u001b[43mparams\u001b[49m\u001b[43m,\u001b[49m\n\u001b[0;32m    473\u001b[0m \u001b[43m        \u001b[49m\u001b[43mcoerce_float\u001b[49m\u001b[38;5;241;43m=\u001b[39;49m\u001b[43mcoerce_float\u001b[49m\u001b[43m,\u001b[49m\n\u001b[0;32m    474\u001b[0m \u001b[43m        \u001b[49m\u001b[43mparse_dates\u001b[49m\u001b[38;5;241;43m=\u001b[39;49m\u001b[43mparse_dates\u001b[49m\u001b[43m,\u001b[49m\n\u001b[0;32m    475\u001b[0m \u001b[43m        \u001b[49m\u001b[43mchunksize\u001b[49m\u001b[38;5;241;43m=\u001b[39;49m\u001b[43mchunksize\u001b[49m\u001b[43m,\u001b[49m\n\u001b[0;32m    476\u001b[0m \u001b[43m        \u001b[49m\u001b[43mdtype\u001b[49m\u001b[38;5;241;43m=\u001b[39;49m\u001b[43mdtype\u001b[49m\u001b[43m,\u001b[49m\n\u001b[0;32m    477\u001b[0m \u001b[43m        \u001b[49m\u001b[43mdtype_backend\u001b[49m\u001b[38;5;241;43m=\u001b[39;49m\u001b[43mdtype_backend\u001b[49m\u001b[43m,\u001b[49m\n\u001b[0;32m    478\u001b[0m \u001b[43m    \u001b[49m\u001b[43m)\u001b[49m\n",
            "File \u001b[1;32mc:\\Users\\zakha\\AppData\\Local\\Programs\\Python\\Python38\\lib\\site-packages\\pandas\\io\\sql.py:2266\u001b[0m, in \u001b[0;36mSQLiteDatabase.read_query\u001b[1;34m(self, sql, index_col, coerce_float, parse_dates, params, chunksize, dtype, dtype_backend)\u001b[0m\n\u001b[0;32m   2255\u001b[0m \u001b[38;5;28;01mdef\u001b[39;00m \u001b[38;5;21mread_query\u001b[39m(\n\u001b[0;32m   2256\u001b[0m     \u001b[38;5;28mself\u001b[39m,\n\u001b[0;32m   2257\u001b[0m     sql,\n\u001b[1;32m   (...)\u001b[0m\n\u001b[0;32m   2264\u001b[0m     dtype_backend: DtypeBackend \u001b[38;5;241m|\u001b[39m Literal[\u001b[38;5;124m\"\u001b[39m\u001b[38;5;124mnumpy\u001b[39m\u001b[38;5;124m\"\u001b[39m] \u001b[38;5;241m=\u001b[39m \u001b[38;5;124m\"\u001b[39m\u001b[38;5;124mnumpy\u001b[39m\u001b[38;5;124m\"\u001b[39m,\n\u001b[0;32m   2265\u001b[0m ) \u001b[38;5;241m-\u001b[39m\u001b[38;5;241m>\u001b[39m DataFrame \u001b[38;5;241m|\u001b[39m Iterator[DataFrame]:\n\u001b[1;32m-> 2266\u001b[0m     cursor \u001b[38;5;241m=\u001b[39m \u001b[38;5;28;43mself\u001b[39;49m\u001b[38;5;241;43m.\u001b[39;49m\u001b[43mexecute\u001b[49m\u001b[43m(\u001b[49m\u001b[43msql\u001b[49m\u001b[43m,\u001b[49m\u001b[43m \u001b[49m\u001b[43mparams\u001b[49m\u001b[43m)\u001b[49m\n\u001b[0;32m   2267\u001b[0m     columns \u001b[38;5;241m=\u001b[39m [col_desc[\u001b[38;5;241m0\u001b[39m] \u001b[38;5;28;01mfor\u001b[39;00m col_desc \u001b[38;5;129;01min\u001b[39;00m cursor\u001b[38;5;241m.\u001b[39mdescription]\n\u001b[0;32m   2269\u001b[0m     \u001b[38;5;28;01mif\u001b[39;00m chunksize \u001b[38;5;129;01mis\u001b[39;00m \u001b[38;5;129;01mnot\u001b[39;00m \u001b[38;5;28;01mNone\u001b[39;00m:\n",
            "File \u001b[1;32mc:\\Users\\zakha\\AppData\\Local\\Programs\\Python\\Python38\\lib\\site-packages\\pandas\\io\\sql.py:2200\u001b[0m, in \u001b[0;36mSQLiteDatabase.execute\u001b[1;34m(self, sql, params)\u001b[0m\n\u001b[0;32m   2198\u001b[0m     \u001b[38;5;28;01mraise\u001b[39;00m \u001b[38;5;167;01mTypeError\u001b[39;00m(\u001b[38;5;124m\"\u001b[39m\u001b[38;5;124mQuery must be a string unless using sqlalchemy.\u001b[39m\u001b[38;5;124m\"\u001b[39m)\n\u001b[0;32m   2199\u001b[0m args \u001b[38;5;241m=\u001b[39m [] \u001b[38;5;28;01mif\u001b[39;00m params \u001b[38;5;129;01mis\u001b[39;00m \u001b[38;5;28;01mNone\u001b[39;00m \u001b[38;5;28;01melse\u001b[39;00m [params]\n\u001b[1;32m-> 2200\u001b[0m cur \u001b[38;5;241m=\u001b[39m \u001b[38;5;28;43mself\u001b[39;49m\u001b[38;5;241;43m.\u001b[39;49m\u001b[43mcon\u001b[49m\u001b[38;5;241;43m.\u001b[39;49m\u001b[43mcursor\u001b[49m\u001b[43m(\u001b[49m\u001b[43m)\u001b[49m\n\u001b[0;32m   2201\u001b[0m \u001b[38;5;28;01mtry\u001b[39;00m:\n\u001b[0;32m   2202\u001b[0m     cur\u001b[38;5;241m.\u001b[39mexecute(sql, \u001b[38;5;241m*\u001b[39margs)\n",
            "\u001b[1;31mInterfaceError\u001b[0m: connection already closed"
          ]
        }
      ],
      "source": [
        "# результат запроса\n",
        "df = pd.read_sql_query(query, connection)\n",
        "\n",
        "# Вывод результата\n",
        "print(f\"Количество работодателей в базе: {df['employer_count'][0]}\")\n",
        "\n",
        "# Закрываем соединение\n",
        "connection.close() "
      ]
    },
    {
      "cell_type": "markdown",
      "id": "a2bfff1f-c975-4bf6-84be-2185d79dcb76",
      "metadata": {
        "id": "a2bfff1f-c975-4bf6-84be-2185d79dcb76"
      },
      "source": [
        "3. Посчитате с помощью запроса количество регионов (таблица areas)."
      ]
    },
    {
      "cell_type": "code",
      "execution_count": null,
      "id": "1m8QJwBYhey6",
      "metadata": {
        "id": "1m8QJwBYhey6"
      },
      "outputs": [],
      "source": [
        "# текст запроса\n",
        "query = \"\"\"\n",
        "    SELECT COUNT(DISTINCT id) AS area_count\n",
        "    FROM public.areas;\n",
        "\"\"\"\n"
      ]
    },
    {
      "cell_type": "code",
      "execution_count": null,
      "id": "EZsn9tlfhe7f",
      "metadata": {
        "id": "EZsn9tlfhe7f"
      },
      "outputs": [],
      "source": [
        "# результат запроса\n",
        "df = pd.read_sql_query(query, connection)\n",
        "\n",
        "# Вывод результата\n",
        "print(f\"Количество регионов в базе: {df['area_count'][0]}\")\n",
        "\n",
        "# Закрываем соединение\n",
        "connection.close() "
      ]
    },
    {
      "cell_type": "markdown",
      "id": "41bb59f3-53cc-4a67-a5bc-bedf573955e4",
      "metadata": {
        "id": "41bb59f3-53cc-4a67-a5bc-bedf573955e4"
      },
      "source": [
        "4. Посчитате с помощью запроса количество сфер деятельности в базе (таблица industries)."
      ]
    },
    {
      "cell_type": "code",
      "execution_count": null,
      "id": "d286cf4c-707b-4cd2-9190-7ab3587d04a1",
      "metadata": {
        "id": "d286cf4c-707b-4cd2-9190-7ab3587d04a1"
      },
      "outputs": [],
      "source": [
        "# текст запроса\n",
        "query = \"\"\"\n",
        "    SELECT COUNT(DISTINCT id) AS industry_count\n",
        "    FROM public.industries;\n",
        "\"\"\"\n"
      ]
    },
    {
      "cell_type": "code",
      "execution_count": null,
      "id": "JYAaoZ4qhfzW",
      "metadata": {
        "id": "JYAaoZ4qhfzW"
      },
      "outputs": [
        {
          "ename": "NameError",
          "evalue": "name 'connection' is not defined",
          "output_type": "error",
          "traceback": [
            "\u001b[1;31m---------------------------------------------------------------------------\u001b[0m",
            "\u001b[1;31mNameError\u001b[0m                                 Traceback (most recent call last)",
            "Cell \u001b[1;32mIn[8], line 2\u001b[0m\n\u001b[0;32m      1\u001b[0m \u001b[38;5;66;03m# результат запроса\u001b[39;00m\n\u001b[1;32m----> 2\u001b[0m df \u001b[38;5;241m=\u001b[39m pd\u001b[38;5;241m.\u001b[39mread_sql_query(query, \u001b[43mconnection\u001b[49m)\n\u001b[0;32m      4\u001b[0m \u001b[38;5;66;03m# Вывод результата\u001b[39;00m\n\u001b[0;32m      5\u001b[0m \u001b[38;5;28mprint\u001b[39m(\u001b[38;5;124mf\u001b[39m\u001b[38;5;124m\"\u001b[39m\u001b[38;5;124mКоличество сфер деятельности в базе: \u001b[39m\u001b[38;5;132;01m{\u001b[39;00mdf[\u001b[38;5;124m'\u001b[39m\u001b[38;5;124mindustry_count\u001b[39m\u001b[38;5;124m'\u001b[39m][\u001b[38;5;241m0\u001b[39m]\u001b[38;5;132;01m}\u001b[39;00m\u001b[38;5;124m\"\u001b[39m)\n",
            "\u001b[1;31mNameError\u001b[0m: name 'connection' is not defined"
          ]
        }
      ],
      "source": [
        "# результат запроса\n",
        "df = pd.read_sql_query(query, connection)\n",
        "\n",
        "# Вывод результата\n",
        "print(f\"Количество сфер деятельности в базе: {df['industry_count'][0]}\")\n",
        "\n",
        "# Закрываем соединение\n",
        "connection.close()"
      ]
    },
    {
      "cell_type": "markdown",
      "id": "9a8a2181-6914-448b-85f1-38f5f18b8a93",
      "metadata": {
        "id": "9a8a2181-6914-448b-85f1-38f5f18b8a93"
      },
      "source": [
        "***"
      ]
    },
    {
      "cell_type": "markdown",
      "id": "be3ec6b8",
      "metadata": {},
      "source": [
        "# **Выводы по предварительному анализу данных:**\n",
        "**Размер базы данных:**\n",
        "\n",
        "1. База данных достаточно большая и содержит 49197 вакансий, 23501 работодателя, 1362 регионов и 294 сфер деятельности.\n",
        "\n",
        "**Разнообразие данных:**\n",
        "\n",
        "1. База данных демонстрирует значительное разнообразие как по количеству вакансий и работодателей, так и по географическому охвату (1362 региона) и сферам деятельности (294). Это позволяет проводить глубокий анализ и получать ценные инсайты.\n",
        "Потенциальные возможности анализа:\n",
        "\n",
        "**Анализ вакансий:**\n",
        "1. Определение наиболее популярных сфер деятельности, регионов, зарплат.\n",
        "2. Изучение тенденций на рынке труда (сезонность, спрос, предложение).\n",
        "3. Выявление ключевых навыков, требуемых для вакансий.\n",
        "\n",
        "**Анализ работодателей:**\n",
        "1. Определение самых активных работодателей (по количеству вакансий).\n",
        "2. Анализ предпочитаемых сфер деятельности и регионов для размещения вакансий.\n",
        "3. Изучение стратегий привлечения сотрудников различными компаниями.\n",
        "\n",
        "**Анализ регионов:**\n",
        "1. Идентификация регионов с наибольшим количеством вакансий и работодателей.\n",
        "2. Сравнение зарплат и спроса на специалистов в разных регионах.\n",
        "3. Выявление перспективных регионов для поиска работы или бизнеса.\n",
        "\n",
        "**Анализ сфер деятельности:**\n",
        "1. Определение наиболее востребованных сфер деятельности на рынке труда.\n",
        "2. Изучение конкуренции в разных сферах.\n",
        "3. Анализ тенденций развития различных отраслей."
      ]
    },
    {
      "cell_type": "markdown",
      "id": "8d62a9f3-f64e-4fe7-bdac-c4dffa16155e",
      "metadata": {
        "id": "8d62a9f3-f64e-4fe7-bdac-c4dffa16155e"
      },
      "source": [
        "# Юнит 4. Детальный анализ вакансий"
      ]
    },
    {
      "cell_type": "markdown",
      "id": "93053d3d-b284-481a-9cf7-012d7014c0e0",
      "metadata": {
        "id": "93053d3d-b284-481a-9cf7-012d7014c0e0"
      },
      "source": [
        "1. Напишите запрос, который позволит узнать, сколько (cnt) вакансий в каждом регионе (area).\n",
        "Отсортируйте по количеству вакансий в порядке убывания."
      ]
    },
    {
      "cell_type": "code",
      "execution_count": null,
      "id": "3f069da6-fdc9-4ae7-b514-fafe2675efd3",
      "metadata": {
        "id": "3f069da6-fdc9-4ae7-b514-fafe2675efd3"
      },
      "outputs": [],
      "source": [
        "# текст запроса\n",
        "query = f\"\"\"\n",
        "    SELECT a.name AS area, COUNT(v.id) AS cnt\n",
        "    FROM areas a\n",
        "    JOIN vacancies v ON a.id = v.area_id\n",
        "    GROUP BY a.name\n",
        "    ORDER BY cnt DESC\n",
        "    LIMIT 5;\n",
        "\"\"\""
      ]
    },
    {
      "cell_type": "code",
      "execution_count": null,
      "id": "P7QL86hrjhRJ",
      "metadata": {
        "id": "P7QL86hrjhRJ"
      },
      "outputs": [],
      "source": [
        "# результат запроса\n",
        "df_top_5_areas = pd.read_sql_query(query, connection)\n",
        "\n",
        "# Вывод результата\n",
        "print(df_top_5_areas)\n",
        "\n",
        "# Закрываем соединение\n",
        "connection.close()\n"
      ]
    },
    {
      "cell_type": "markdown",
      "id": "4266f0b6-1646-492a-88b4-2f6a46502135",
      "metadata": {
        "id": "4266f0b6-1646-492a-88b4-2f6a46502135"
      },
      "source": [
        "2. Напишите запрос, чтобы определить у какого количества вакансий заполнено хотя бы одно из двух полей с зарплатой."
      ]
    },
    {
      "cell_type": "code",
      "execution_count": null,
      "id": "0c44b350-72eb-4d65-8b54-a1fc449ba9fd",
      "metadata": {
        "id": "0c44b350-72eb-4d65-8b54-a1fc449ba9fd"
      },
      "outputs": [],
      "source": [
        "# текст запроса\n",
        "df = pd.read_sql_query(\"SELECT * FROM vacancies\", connection)"
      ]
    },
    {
      "cell_type": "code",
      "execution_count": null,
      "id": "rhvwaMDkoWTi",
      "metadata": {
        "id": "rhvwaMDkoWTi"
      },
      "outputs": [],
      "source": [
        "# результат запроса\n",
        "\n",
        "# Фильтрация DataFrame\n",
        "filtered_df = df[(df['salary_from'].notna()) | (df['salary_to'].notna())]\n",
        "\n",
        "# Подсчет вакансий\n",
        "vacancy_count = filtered_df.shape[0]\n",
        "\n",
        "# Вывод результата\n",
        "print(f\"Количество вакансий с заполненными полями зарплаты: {vacancy_count}\")\n",
        "\n",
        "# Закрываем соединение\n",
        "connection.close()"
      ]
    },
    {
      "cell_type": "markdown",
      "id": "635c4d5d-f323-4c66-b428-50a088120aa0",
      "metadata": {
        "id": "635c4d5d-f323-4c66-b428-50a088120aa0"
      },
      "source": [
        "3. Найдите средние значения для нижней и верхней границы зарплатной вилки. Округлите значения до целого."
      ]
    },
    {
      "cell_type": "code",
      "execution_count": null,
      "id": "603cdbe4-0ec3-4106-8eaf-c73fcdd29165",
      "metadata": {
        "id": "603cdbe4-0ec3-4106-8eaf-c73fcdd29165"
      },
      "outputs": [],
      "source": [
        "# текст запроса\n",
        "query = f\"\"\"\n",
        "    SELECT *\n",
        "    FROM vacancies\n",
        "\"\"\""
      ]
    },
    {
      "cell_type": "code",
      "execution_count": null,
      "id": "pswpAb66ovZZ",
      "metadata": {
        "id": "pswpAb66ovZZ"
      },
      "outputs": [],
      "source": [
        "# результат запроса\n",
        "df_vacancies = pd.read_sql_query(query, connection)\n",
        "\n",
        "# Вычисление средних значений\n",
        "avg_salary_from = round(df_vacancies['salary_from'].mean())\n",
        "avg_salary_to = round(df_vacancies['salary_to'].mean())\n",
        "\n",
        "# Вывод результата с помощью f-строк\n",
        "print(f\"Средняя нижняя граница зарплаты: {avg_salary_from}\")\n",
        "print(f\"Средняя верхняя граница зарплаты: {avg_salary_to}\")\n",
        "\n",
        "# Закрываем соединение\n",
        "connection.close()"
      ]
    },
    {
      "cell_type": "markdown",
      "id": "f3fdaec9-5fd3-4260-9cf5-1d7406b628a5",
      "metadata": {
        "id": "f3fdaec9-5fd3-4260-9cf5-1d7406b628a5"
      },
      "source": [
        "4. Напишите запрос, который выведет количество вакансий для каждого сочетания типа рабочего графика (schedule) и типа трудоустройства (employment), используемого в вакансиях. Результат отсортируйте по убыванию количества.\n"
      ]
    },
    {
      "cell_type": "code",
      "execution_count": null,
      "id": "1ea710ec-871b-431e-9462-c7d0fd87011b",
      "metadata": {
        "id": "1ea710ec-871b-431e-9462-c7d0fd87011b"
      },
      "outputs": [],
      "source": [
        "# текст запроса\n",
        "query = f\"\"\"\n",
        "    SELECT \n",
        "        schedule,\n",
        "        employment,\n",
        "        COUNT(*) AS cnt\n",
        "    FROM vacancies\n",
        "    GROUP BY schedule, employment\n",
        "    ORDER BY cnt DESC\n",
        "\"\"\""
      ]
    },
    {
      "cell_type": "code",
      "execution_count": null,
      "id": "lGUVqavdo4JQ",
      "metadata": {
        "id": "lGUVqavdo4JQ"
      },
      "outputs": [
        {
          "ename": "NameError",
          "evalue": "name 'connection' is not defined",
          "output_type": "error",
          "traceback": [
            "\u001b[1;31m---------------------------------------------------------------------------\u001b[0m",
            "\u001b[1;31mNameError\u001b[0m                                 Traceback (most recent call last)",
            "Cell \u001b[1;32mIn[4], line 2\u001b[0m\n\u001b[0;32m      1\u001b[0m \u001b[38;5;66;03m# результат запроса\u001b[39;00m\n\u001b[1;32m----> 2\u001b[0m df_vacancies \u001b[38;5;241m=\u001b[39m pd\u001b[38;5;241m.\u001b[39mread_sql_query(query, \u001b[43mconnection\u001b[49m)\n\u001b[0;32m      4\u001b[0m \u001b[38;5;66;03m# Вывод результата\u001b[39;00m\n\u001b[0;32m      5\u001b[0m \u001b[38;5;28mprint\u001b[39m(df_vacancies\u001b[38;5;241m.\u001b[39miloc[\u001b[38;5;241m1\u001b[39m])\n",
            "\u001b[1;31mNameError\u001b[0m: name 'connection' is not defined"
          ]
        }
      ],
      "source": [
        "# результат запроса\n",
        "df_vacancies = pd.read_sql_query(query, connection)\n",
        "\n",
        "# Вывод результата\n",
        "print(df_vacancies.iloc[1])\n",
        "\n",
        "# Закрываем соединение\n",
        "connection.close()"
      ]
    },
    {
      "cell_type": "markdown",
      "id": "0136ffee-0ead-4a6b-b608-61d1c753a438",
      "metadata": {
        "id": "0136ffee-0ead-4a6b-b608-61d1c753a438"
      },
      "source": [
        "5. Напишите запрос, выводящий значения поля Требуемый опыт работы (experience) в порядке возрастания количества вакансий, в которых указан данный вариант опыта. "
      ]
    },
    {
      "cell_type": "code",
      "execution_count": null,
      "id": "5b3a8e79-f7ab-4008-b767-12aea3a205ea",
      "metadata": {
        "id": "5b3a8e79-f7ab-4008-b767-12aea3a205ea"
      },
      "outputs": [],
      "source": [
        "# текст запроса\n",
        "query = f\"\"\"\n",
        "SELECT experience, COUNT(*) AS vacancy_count\n",
        "FROM vacancies\n",
        "GROUP BY experience\n",
        "ORDER BY vacancy_count ASC;\n",
        "\"\"\""
      ]
    },
    {
      "cell_type": "code",
      "execution_count": null,
      "id": "3Is64Y-hpDpq",
      "metadata": {
        "id": "3Is64Y-hpDpq"
      },
      "outputs": [
        {
          "ename": "NameError",
          "evalue": "name 'connection' is not defined",
          "output_type": "error",
          "traceback": [
            "\u001b[1;31m---------------------------------------------------------------------------\u001b[0m",
            "\u001b[1;31mNameError\u001b[0m                                 Traceback (most recent call last)",
            "Cell \u001b[1;32mIn[6], line 1\u001b[0m\n\u001b[1;32m----> 1\u001b[0m df \u001b[38;5;241m=\u001b[39m pd\u001b[38;5;241m.\u001b[39mread_sql_query(query, \u001b[43mconnection\u001b[49m)\n\u001b[0;32m      3\u001b[0m \u001b[38;5;66;03m# Выводим результат\u001b[39;00m\n\u001b[0;32m      4\u001b[0m \u001b[38;5;28mprint\u001b[39m(df)\n",
            "\u001b[1;31mNameError\u001b[0m: name 'connection' is not defined"
          ]
        }
      ],
      "source": [
        "df = pd.read_sql_query(query, connection)\n",
        "\n",
        "# Выводим результат\n",
        "print(df)\n",
        "\n",
        "# Закрываем соединение с базой данных\n",
        "connection.close()"
      ]
    },
    {
      "cell_type": "markdown",
      "id": "oq2b7n1QpIka",
      "metadata": {
        "id": "oq2b7n1QpIka"
      },
      "source": [
        "***"
      ]
    },
    {
      "cell_type": "code",
      "execution_count": null,
      "id": "e91f87ed-e25c-4f96-9f92-b642e8c0b4fa",
      "metadata": {
        "id": "e91f87ed-e25c-4f96-9f92-b642e8c0b4fa"
      },
      "outputs": [],
      "source": [
        "# выводы по детальному анализу вакансий"
      ]
    },
    {
      "cell_type": "markdown",
      "id": "053747bd",
      "metadata": {},
      "source": [
        "**География спроса:**\n",
        "\n",
        "1. **Лидеры рынка:** Москва, Санкт-Петербург, Минск, Новосибирск, Алматы - топ-5 городов по количеству вакансий, что указывает на концентрацию спроса в этих регионах.\n",
        "2. **Актуальность регионального анализа:** Важно учитывать географию при поиске работы и определении стратегии развития карьеры.\n",
        "\n",
        "**Заработная плата:**\n",
        "\n",
        "1. **Средняя зарплата:** Заполненные поля с зарплатой в 24073 вакансиях указывает на то, что информация о зарплате достаточно часто указывается.\n",
        "2. **Диапазон зарплат:** Средняя нижняя граница зарплатной вилки (71065) и верхняя граница (110537) показывают достаточно широкий диапазон зарплат в сфере дата-сайенса.\n",
        "3. **Факторы влияния на зарплату:** Для более точного анализа необходимо учитывать опыт работы, специализацию, местоположение, размер компании и другие факторы, которые влияют на зарплату.\n",
        "\n",
        "**Тип рабочего графика и трудоустройства:**\n",
        "\n",
        "1. **Популярность удалённой работы:** На втором месте по популярности находится комбинация “Удалённая работа - Полная занятость”, что говорит о растущей тенденции к удалённой работе в сфере дата-сайенса.\n",
        "\n",
        "**Опыт работы:**\n",
        "\n",
        "1. **Разнообразный опыт:** Вакансии требуют разный опыт работы, от “Нет опыта” до “Более 6 лет”. Это указывает на то, что в сфере дата-сайенса есть возможности для специалистов с разным уровнем опыта.\n",
        "\n",
        "**Pекомендации:**\n",
        "\n",
        "1. **Изучить конкретные вакансии в интересующих регионах:** Изучите наиболее популярные вакансии в Москве, Санкт-Петербурге, Минске, Новосибирске и Алматы, чтобы определить спрос на конкретные навыки и специализации.\n",
        "2. **Уточнить ожидания по зарплате:** Изучите средние зарплаты в разных регионах и сферах деятельности в сфере дата-сайенса, чтобы сформировать реалистичные ожидания.\n",
        "3. **Рассмотреть возможность удалённой работы:** Если вас интересует удалённая работа, то следует искать вакансии с соответствующим типом рабочего графика.\n",
        "4. **Развивать специализацию:** Изучите наиболее востребованные навыки в сфере дата-сайенса в вашем регионе, чтобы стать более конкурентоспособным специалистом."
      ]
    },
    {
      "cell_type": "markdown",
      "id": "7ea20ab6-04a7-40a0-adec-443a0e5a42c3",
      "metadata": {
        "id": "7ea20ab6-04a7-40a0-adec-443a0e5a42c3"
      },
      "source": [
        "# Юнит 5. Анализ работодателей"
      ]
    },
    {
      "cell_type": "markdown",
      "id": "968aed80-74ef-4ffb-b5bf-c65b84e9caea",
      "metadata": {
        "id": "968aed80-74ef-4ffb-b5bf-c65b84e9caea"
      },
      "source": [
        "1. Напишите запрос, который позволит узнать, какие работодатели находятся на первом и пятом месте по количеству вакансий."
      ]
    },
    {
      "cell_type": "code",
      "execution_count": null,
      "id": "f2d62796-d400-4ec1-a675-88112739a50e",
      "metadata": {
        "id": "f2d62796-d400-4ec1-a675-88112739a50e"
      },
      "outputs": [],
      "source": [
        "# текст запроса\n",
        "query = f\"\"\"\n",
        "WITH EmployerVacancyCount AS (\n",
        "    SELECT e.name, COUNT(*) AS vacancy_count\n",
        "    FROM employers e\n",
        "    JOIN vacancies v ON e.id = v.employer_id\n",
        "    GROUP BY e.name\n",
        "    ORDER BY vacancy_count DESC\n",
        ")\n",
        "SELECT name\n",
        "FROM EmployerVacancyCount\n",
        "WHERE vacancy_count = (SELECT vacancy_count FROM EmployerVacancyCount ORDER BY vacancy_count DESC LIMIT 1 OFFSET 0)\n",
        "OR vacancy_count = (SELECT vacancy_count FROM EmployerVacancyCount ORDER BY vacancy_count DESC LIMIT 1 OFFSET 4);\n",
        "\"\"\""
      ]
    },
    {
      "cell_type": "code",
      "execution_count": null,
      "id": "64tOMkAxqkQk",
      "metadata": {
        "id": "64tOMkAxqkQk"
      },
      "outputs": [],
      "source": [
        "# результат запроса\n",
        "df = pd.read_sql_query(query, connection)\n",
        "\n",
        "# Выводим результат\n",
        "print(df)\n",
        "\n",
        "# Закрываем соединение с базой данных\n",
        "connection.close()"
      ]
    },
    {
      "cell_type": "markdown",
      "id": "68377cfc-b378-43dc-ab7d-1195abf2c515",
      "metadata": {
        "id": "68377cfc-b378-43dc-ab7d-1195abf2c515"
      },
      "source": [
        "2. Напишите запрос, который для каждого региона выведет количество работодателей и вакансий в нём.\n",
        "Среди регионов, в которых нет вакансий, найдите тот, в котором наибольшее количество работодателей.\n"
      ]
    },
    {
      "cell_type": "code",
      "execution_count": null,
      "id": "dd7df27a-e3e8-412e-a21a-5d389b71e891",
      "metadata": {
        "id": "dd7df27a-e3e8-412e-a21a-5d389b71e891"
      },
      "outputs": [],
      "source": [
        "# текст запроса\n",
        "query = f\"\"\"\n",
        "WITH EmployerVacancyCount AS (\n",
        "    SELECT e.name, COUNT(*) AS vacancy_count\n",
        "    FROM employers e\n",
        "    JOIN vacancies v ON e.id = v.employer_id\n",
        "    GROUP BY e.name\n",
        "    ORDER BY vacancy_count DESC\n",
        ")\n",
        "SELECT name\n",
        "FROM EmployerVacancyCount\n",
        "WHERE vacancy_count = (SELECT vacancy_count FROM EmployerVacancyCount ORDER BY vacancy_count DESC LIMIT 1 OFFSET 0)\n",
        "OR vacancy_count = (SELECT vacancy_count FROM EmployerVacancyCount ORDER BY vacancy_count DESC LIMIT 1 OFFSET 4);\n",
        "\"\"\""
      ]
    },
    {
      "cell_type": "code",
      "execution_count": null,
      "id": "x1ikWbydrbf6",
      "metadata": {
        "id": "x1ikWbydrbf6"
      },
      "outputs": [],
      "source": [
        "# результат запроса\n",
        "df = pd.read_sql_query(query, connection)\n",
        "\n",
        "# Выводим результат\n",
        "print(df)\n",
        "\n",
        "# Закрываем соединение с базой данных\n",
        "connection.close()"
      ]
    },
    {
      "cell_type": "markdown",
      "id": "f2fe0acb-ab1a-4e15-9326-2560e22d73c1",
      "metadata": {
        "id": "f2fe0acb-ab1a-4e15-9326-2560e22d73c1"
      },
      "source": [
        "3. Для каждого работодателя посчитайте количество регионов, в которых он публикует свои вакансии. Отсортируйте результат по убыванию количества.\n"
      ]
    },
    {
      "cell_type": "code",
      "execution_count": null,
      "id": "6271f8ad-bd2e-4196-ae4a-5b39c4c1010e",
      "metadata": {
        "id": "6271f8ad-bd2e-4196-ae4a-5b39c4c1010e"
      },
      "outputs": [],
      "source": [
        "# текст запроса\n",
        "query = f\"\"\"\n",
        "SELECT MAX(region_count) AS max_region_count\n",
        "FROM (\n",
        "    SELECT e.name, COUNT(DISTINCT v.area_id) AS region_count\n",
        "    FROM employers e\n",
        "    JOIN vacancies v ON e.id = v.employer_id\n",
        "    GROUP BY e.name\n",
        ") AS employer_region_counts;\n",
        "\"\"\""
      ]
    },
    {
      "cell_type": "code",
      "execution_count": null,
      "id": "1EIvX3HasH4F",
      "metadata": {
        "id": "1EIvX3HasH4F"
      },
      "outputs": [],
      "source": [
        "# результат запроса\n",
        "df = pd.read_sql_query(query, connection)\n",
        "\n",
        "# Выводим результат\n",
        "print(df)\n",
        "\n",
        "# Закрываем соединение с базой данных\n",
        "connection.close()"
      ]
    },
    {
      "cell_type": "markdown",
      "id": "eab2206d-d95b-468b-8e5f-34381abf0ce7",
      "metadata": {
        "id": "eab2206d-d95b-468b-8e5f-34381abf0ce7"
      },
      "source": [
        "4. Напишите запрос для подсчёта количества работодателей, у которых не указана сфера деятельности. "
      ]
    },
    {
      "cell_type": "code",
      "execution_count": null,
      "id": "80defb23-bfb1-4a18-8be6-bf36aa7165d5",
      "metadata": {
        "id": "80defb23-bfb1-4a18-8be6-bf36aa7165d5"
      },
      "outputs": [],
      "source": [
        "# текст запроса\n",
        "query = f\"\"\"\n",
        "SELECT COUNT(DISTINCT e.id)\n",
        "FROM employers e\n",
        "LEFT JOIN employers_industries ei ON e.id = ei.employer_id\n",
        "WHERE ei.industry_id IS NULL;\n",
        "\"\"\""
      ]
    },
    {
      "cell_type": "code",
      "execution_count": null,
      "id": "Dp_yCx6ysQSu",
      "metadata": {
        "id": "Dp_yCx6ysQSu"
      },
      "outputs": [],
      "source": [
        "# результат запроса\n",
        "df = pd.read_sql_query(query, connection)\n",
        "\n",
        "# Выводим результат\n",
        "print(df)\n",
        "\n",
        "# Закрываем соединение с базой данных\n",
        "connection.close()"
      ]
    },
    {
      "cell_type": "markdown",
      "id": "0112af31-f6b0-4e3b-82ab-71296e752e5e",
      "metadata": {
        "id": "0112af31-f6b0-4e3b-82ab-71296e752e5e"
      },
      "source": [
        "5. Напишите запрос, чтобы узнать название компании, находящейся на третьем месте в алфавитном списке (по названию) компаний, у которых указано четыре сферы деятельности. "
      ]
    },
    {
      "cell_type": "code",
      "execution_count": null,
      "id": "973b0cfc-a972-470a-8b4a-68744ef220c4",
      "metadata": {
        "id": "973b0cfc-a972-470a-8b4a-68744ef220c4"
      },
      "outputs": [],
      "source": [
        "# текст запроса\n",
        "query = f\"\"\"\n",
        "SELECT e.name\n",
        "FROM employers e\n",
        "JOIN employers_industries ei ON e.id = ei.employer_id\n",
        "GROUP BY e.name\n",
        "HAVING COUNT(DISTINCT ei.industry_id) = 4\n",
        "ORDER BY e.name\n",
        "LIMIT 1 OFFSET 2;\n",
        "\"\"\""
      ]
    },
    {
      "cell_type": "code",
      "execution_count": null,
      "id": "xsPtpp8EsaED",
      "metadata": {
        "id": "xsPtpp8EsaED"
      },
      "outputs": [],
      "source": [
        "# результат запроса\n",
        "# Получаем данные из базы данных в виде DataFrame\n",
        "df = pd.read_sql_query(query, connection)\n",
        "\n",
        "# Выводим результат\n",
        "print(df)\n",
        "\n",
        "# Закрываем соединение с базой данных\n",
        "connection.close()"
      ]
    },
    {
      "cell_type": "markdown",
      "id": "3bfcfdaf-755d-4d2b-8ed8-326201dc07ab",
      "metadata": {
        "id": "3bfcfdaf-755d-4d2b-8ed8-326201dc07ab"
      },
      "source": [
        "6. С помощью запроса выясните, у какого количества работодателей в качестве сферы деятельности указана Разработка программного обеспечения.\n"
      ]
    },
    {
      "cell_type": "code",
      "execution_count": null,
      "id": "ad3f270f-2991-47eb-929b-e8f88a55b0d1",
      "metadata": {
        "id": "ad3f270f-2991-47eb-929b-e8f88a55b0d1"
      },
      "outputs": [],
      "source": [
        "# текст запроса\n",
        "query = f\"\"\"\n",
        "SELECT COUNT(DISTINCT e.id)\n",
        "FROM EMPLOYERS e\n",
        "JOIN EMPLOYERS_INDUSTRIES ei ON e.id = ei.employer_id\n",
        "JOIN INDUSTRIES i ON ei.industry_id = i.id\n",
        "WHERE i.name = 'Разработка программного обеспечения';\n",
        "\"\"\""
      ]
    },
    {
      "cell_type": "code",
      "execution_count": null,
      "id": "H72qxWM0shPR",
      "metadata": {
        "id": "H72qxWM0shPR"
      },
      "outputs": [],
      "source": [
        "# результат запроса\n",
        "df = pd.read_sql_query(query, connection)\n",
        "\n",
        "# Вывод DataFrame\n",
        "print(df.iloc[0, 0])\n",
        "\n",
        "# Закрытие соединения с базой данных\n",
        "connection.close()"
      ]
    },
    {
      "cell_type": "markdown",
      "id": "7b02bb86-0546-40fb-94a4-242f050a5c57",
      "metadata": {
        "id": "7b02bb86-0546-40fb-94a4-242f050a5c57"
      },
      "source": [
        "7. Для компании «Яндекс» выведите список регионов-миллионников, в которых представлены вакансии компании, вместе с количеством вакансий в этих регионах. Также добавьте строку Total с общим количеством вакансий компании. Результат отсортируйте по возрастанию количества.\n",
        "\n",
        "Список городов-милионников надо взять [отсюда](https://ru.wikipedia.org/wiki/%D0%93%D0%BE%D1%80%D0%BE%D0%B4%D0%B0-%D0%BC%D0%B8%D0%BB%D0%BB%D0%B8%D0%BE%D0%BD%D0%B5%D1%80%D1%8B_%D0%A0%D0%BE%D1%81%D1%81%D0%B8%D0%B8). \n",
        "\n",
        "Если возникнут трудности с этим задание посмотрите материалы модуля  PYTHON-17. Как получать данные из веб-источников и API. "
      ]
    },
    {
      "cell_type": "code",
      "execution_count": null,
      "id": "ZdfrL6gIs1Pn",
      "metadata": {
        "id": "ZdfrL6gIs1Pn"
      },
      "outputs": [],
      "source": [
        "# код для получения списка городов-милионников\n",
        "\n",
        "# Скачиваем HTML-код страницы Википедии\n",
        "url = 'https://ru.wikipedia.org/wiki/%D0%93%D0%BE%D1%80%D0%BE%D0%B4%D0%B0-%D0%BC%D0%B8%D0%BB%D0%BB%D0%B8%D0%BE%D0%BD%D0%B5%D1%80%D1%8B_%D0%A0%D0%BE%D1%81%D1%81%D0%B8%D0%B8'\n",
        "response = requests.get(url)\n",
        "soup = BeautifulSoup(response.text, 'html.parser')\n",
        "table = soup.find('table', {'class': 'standard sortable'})\n",
        "\n",
        "# Извлечение заголовков и данных из таблицы\n",
        "headers = [th.text.strip() for th in table.find('tr').find_all('th')]\n",
        "data = []\n",
        "for row in table.find_all('tr')[1:]:\n",
        "    row_data = [cell.text.strip() for cell in row.find_all('td')]\n",
        "    data.append(row_data)\n",
        "df = pd.DataFrame(data, columns=headers)\n",
        "cities_list = df['Город'].tolist()\n",
        "\n",
        "# Создаем соединение с базой данных\n",
        "connection = psycopg2.connect(\n",
        "    dbname=DBNAME,\n",
        "    user=USER,\n",
        "    host=HOST,\n",
        "    password=PASSWORD,\n",
        "    port=PORT\n",
        ")\n",
        "\n",
        "# SQL-запрос для получения информации о вакансиях\n",
        "query = \"\"\"\n",
        "SELECT\n",
        "    a.name AS region,\n",
        "    COUNT(v.id) AS vacancy_count\n",
        "FROM\n",
        "    vacancies v\n",
        "JOIN\n",
        "    employers e ON v.employer_id = e.id\n",
        "JOIN\n",
        "    areas a ON v.area_id = a.id\n",
        "WHERE\n",
        "    e.name = 'Яндекс' AND a.name IN ({})\n",
        "GROUP BY\n",
        "    a.name\n",
        "UNION ALL\n",
        "SELECT\n",
        "    'Total' AS region,\n",
        "    COUNT(v.id) AS vacancy_count\n",
        "FROM\n",
        "    vacancies v\n",
        "JOIN\n",
        "    employers e ON v.employer_id = e.id\n",
        "WHERE\n",
        "    e.name = 'Яндекс'\n",
        "ORDER BY\n",
        "    vacancy_count DESC;\n",
        "\"\"\".format(', '.join([\"'{}'\".format(city) for city in cities_list]))\n",
        "\n",
        "# Получаем данные из базы данных в виде DataFrame\n",
        "df = pd.read_sql_query(query, connection)\n",
        "\n",
        "# Выводим результат\n",
        "print(df)\n",
        "\n",
        "# Закрываем соединение с базой данных\n",
        "connection.close()"
      ]
    },
    {
      "cell_type": "markdown",
      "id": "04966e40-3bc3-4dc8-9ba2-e80580ce3abc",
      "metadata": {
        "id": "04966e40-3bc3-4dc8-9ba2-e80580ce3abc"
      },
      "source": [
        "***"
      ]
    },
    {
      "cell_type": "code",
      "execution_count": null,
      "id": "aGGyER-yt4SR",
      "metadata": {
        "id": "aGGyER-yt4SR"
      },
      "outputs": [],
      "source": [
        "# выводы по анализу работодателей"
      ]
    },
    {
      "cell_type": "markdown",
      "id": "8d42fe49",
      "metadata": {},
      "source": [
        "**Лидеры рынка:**\n",
        "\n",
        "1. **Яндекс и Газпром нефть:** Эти компании занимают первое и пятое места по количеству вакансий, что говорит об их активной роли на рынке труда в сфере дата-сайенса.\n",
        "\n",
        "**География:**\n",
        "\n",
        "1. **Россия - главный рынок:** Большинство работодателей (8419) находятся в России, что подтверждает ее ведущую роль в сфере дата-сайенса.\n",
        "2. **Широкое географическое присутствие:** 181 регион - это значительное количество для одного работодателя, что говорит о широком географическом охвате вакансий и о возможности найти работу в разных регионах.\n",
        "\n",
        "**Сфера деятельности:**\n",
        "\n",
        "1. **Разработка ПО - лидер:** “Разработка программного обеспечения” - самая популярная сфера деятельности среди работодателей (3553 компаний). Это указывает на высокий спрос на дата-сайентистов в IT-сфере.\n",
        "2. **Отсутствие информации:** 8419 работодателей не указали сферу деятельности. Это может быть связано с ошибками в базе данных, но также может указывать на то, что некоторые компании не делают акцент на сферу деятельности при поиске дата-сайентистов."
      ]
    },
    {
      "cell_type": "markdown",
      "id": "b1ef156a-efcb-49ce-bb23-90763e7f35b2",
      "metadata": {
        "id": "b1ef156a-efcb-49ce-bb23-90763e7f35b2",
        "tags": []
      },
      "source": [
        "# Юнит 6. Предметный анализ"
      ]
    },
    {
      "cell_type": "markdown",
      "id": "b9cd50a0-992d-4988-8463-2b2b1c4629b4",
      "metadata": {
        "id": "b9cd50a0-992d-4988-8463-2b2b1c4629b4"
      },
      "source": [
        "1. Сколько вакансий имеет отношение к данным?\n",
        "\n",
        "Считаем, что вакансия имеет отношение к данным, если в её названии содержатся слова 'data' или 'данн'.\n",
        "\n",
        "*Подсказка: Обратите внимание, что названия вакансий могут быть написаны в любом регистре.* \n"
      ]
    },
    {
      "cell_type": "code",
      "execution_count": null,
      "id": "54ab0e50-c0f1-47cc-a54b-bc5c8bc363f9",
      "metadata": {
        "id": "54ab0e50-c0f1-47cc-a54b-bc5c8bc363f9"
      },
      "outputs": [],
      "source": [
        "# текст запроса\n",
        "query = f\"\"\"\n",
        "SELECT\n",
        "    COUNT(Vacancies.id) AS VacanciesCount\n",
        "FROM Vacancies\n",
        "WHERE LOWER(Vacancies.name) LIKE '%data%' OR LOWER(Vacancies.name) LIKE '%данн%';\n",
        "\"\"\""
      ]
    },
    {
      "cell_type": "code",
      "execution_count": null,
      "id": "9F1meAqsuUjd",
      "metadata": {
        "id": "9F1meAqsuUjd"
      },
      "outputs": [],
      "source": [
        "# результат запроса\n",
        "df = pd.read_sql_query(query, connection)\n",
        "\n",
        "# Вывод результата\n",
        "print(df)\n",
        "\n",
        "# Закрытие подключения\n",
        "connection.close()"
      ]
    },
    {
      "cell_type": "markdown",
      "id": "4dea20cb-a36b-474a-a0b9-e08e8e3857a5",
      "metadata": {
        "id": "4dea20cb-a36b-474a-a0b9-e08e8e3857a5"
      },
      "source": [
        "2. Сколько есть подходящих вакансий для начинающего дата-сайентиста? \n",
        "Будем считать вакансиями для дата-сайентистов такие, в названии которых есть хотя бы одно из следующих сочетаний:\n",
        "* 'data scientist'\n",
        "* 'data science'\n",
        "* 'исследователь данных'\n",
        "* 'ML' (здесь не нужно брать вакансии по HTML)\n",
        "* 'machine learning'\n",
        "* 'машинн%обучен%'\n",
        "\n",
        "** В следующих заданиях мы продолжим работать с вакансиями по этому условию.*\n",
        "\n",
        "Считаем вакансиями для специалистов уровня Junior следующие:\n",
        "* в названии есть слово 'junior' *или*\n",
        "* требуемый опыт — Нет опыта *или*\n",
        "* тип трудоустройства — Стажировка.\n",
        " "
      ]
    },
    {
      "cell_type": "code",
      "execution_count": null,
      "id": "9c61b3c0-bb66-46c9-ae1e-81d3f5752b4a",
      "metadata": {
        "id": "9c61b3c0-bb66-46c9-ae1e-81d3f5752b4a"
      },
      "outputs": [],
      "source": [
        "# текст запроса\n",
        "query = f\"\"\"\n",
        "SELECT COUNT(*) AS VacanciesCount\n",
        "FROM Vacancies\n",
        "WHERE (\n",
        "  LOWER(Vacancies.name) LIKE '%data scientist%' OR\n",
        "  LOWER(Vacancies.name) LIKE '%data science%' OR\n",
        "  LOWER(Vacancies.name) LIKE '%исследователь данных%' OR\n",
        "  LOWER(Vacancies.name) LIKE '%ml%' AND LOWER(Vacancies.name) NOT LIKE '%html%' OR\n",
        "  LOWER(Vacancies.name) LIKE '%machine learning%' OR\n",
        "  LOWER(Vacancies.name) LIKE '%машинн%обучен%'\n",
        ")\n",
        "AND (\n",
        "  LOWER(Vacancies.name) LIKE '%junior%' OR\n",
        "  Vacancies.experience = 'Нет опыта' OR\n",
        "  Vacancies.employment = 'Стажировка'\n",
        ");\n",
        "\"\"\""
      ]
    },
    {
      "cell_type": "code",
      "execution_count": null,
      "id": "ZNM-LLYuu1dj",
      "metadata": {
        "id": "ZNM-LLYuu1dj"
      },
      "outputs": [],
      "source": [
        "# результат запроса\n",
        "df = pd.read_sql_query(query, con=connection)  # Указываем подключение здесь\n",
        "\n",
        "# Вывод результата\n",
        "print(df)\n",
        "\n",
        "# Закрытие подключения\n",
        "connection.close()"
      ]
    },
    {
      "cell_type": "markdown",
      "id": "eedceb80-c5ca-480e-b27a-278dfb8b4438",
      "metadata": {
        "id": "eedceb80-c5ca-480e-b27a-278dfb8b4438"
      },
      "source": [
        "3. Сколько есть вакансий для DS, в которых в качестве ключевого навыка указан SQL или postgres?\n",
        "\n",
        "** Критерии для отнесения вакансии к DS указаны в предыдущем задании.*"
      ]
    },
    {
      "cell_type": "code",
      "execution_count": null,
      "id": "69621713-0cc5-4f1b-a1d7-bb144fa6148c",
      "metadata": {
        "id": "69621713-0cc5-4f1b-a1d7-bb144fa6148c"
      },
      "outputs": [],
      "source": [
        "# текст запроса\n",
        "query = \"\"\"\n",
        "SELECT COUNT(*)\n",
        "FROM Vacancies\n",
        "WHERE (\n",
        "  LOWER(Vacancies.name) LIKE '%data scientist%' OR\n",
        "  LOWER(Vacancies.name) LIKE '%data science%' OR\n",
        "  LOWER(Vacancies.name) LIKE '%исследователь данных%' OR\n",
        "  LOWER(Vacancies.name) LIKE '%ml%' AND LOWER(Vacancies.name) NOT LIKE '%html%' OR\n",
        "  LOWER(Vacancies.name) LIKE '%machine learning%' OR\n",
        "  LOWER(Vacancies.name) LIKE '%машинн%обучен%'\n",
        ")\n",
        "AND (\n",
        "  LOWER(Vacancies.key_skills) LIKE '%sql%' OR\n",
        "  LOWER(Vacancies.key_skills) LIKE '%postgres%'\n",
        ");\n",
        "\"\"\""
      ]
    },
    {
      "cell_type": "code",
      "execution_count": null,
      "id": "alA8WEAAvGdf",
      "metadata": {
        "id": "alA8WEAAvGdf"
      },
      "outputs": [],
      "source": [
        "# результат запроса\n",
        "df = pd.read_sql_query(query, connection)\n",
        "\n",
        "# Вывод результата\n",
        "print(df)\n",
        "\n",
        "# Закрытие подключения\n",
        "connection.close()"
      ]
    },
    {
      "cell_type": "markdown",
      "id": "1be1e9c6-37cf-4a5f-bfeb-04cab799dc80",
      "metadata": {
        "id": "1be1e9c6-37cf-4a5f-bfeb-04cab799dc80"
      },
      "source": [
        "4. Проверьте, насколько популярен Python в требованиях работодателей к DS.Для этого вычислите количество вакансий, в которых в качестве ключевого навыка указан Python.\n",
        "\n",
        "** Это можно сделать помощью запроса, аналогичного предыдущему.*"
      ]
    },
    {
      "cell_type": "code",
      "execution_count": null,
      "id": "0036a355-9ccf-4564-8b01-73d8194297e7",
      "metadata": {
        "id": "0036a355-9ccf-4564-8b01-73d8194297e7"
      },
      "outputs": [],
      "source": [
        "# текст запроса\n",
        "query = \"\"\"\n",
        "SELECT COUNT(*)\n",
        "FROM Vacancies\n",
        "WHERE (\n",
        "  LOWER(Vacancies.name) LIKE '%data scientist%' OR\n",
        "  LOWER(Vacancies.name) LIKE '%data science%' OR\n",
        "  LOWER(Vacancies.name) LIKE '%исследователь данных%' OR\n",
        "  LOWER(Vacancies.name) LIKE '%ml%' AND LOWER(Vacancies.name) NOT LIKE '%html%' OR\n",
        "  LOWER(Vacancies.name) LIKE '%machine learning%' OR\n",
        "  LOWER(Vacancies.name) LIKE '%машинн%обучен%'\n",
        ")\n",
        "AND (\n",
        "  LOWER(Vacancies.key_skills) LIKE '%python%'\n",
        ");\n",
        "\"\"\""
      ]
    },
    {
      "cell_type": "code",
      "execution_count": null,
      "id": "1i-5WyucvQ6v",
      "metadata": {
        "id": "1i-5WyucvQ6v"
      },
      "outputs": [],
      "source": [
        "# результат запроса\n",
        "df = pd.read_sql_query(query, connection)\n",
        "\n",
        "# Вывод результата\n",
        "print(df)\n",
        "\n",
        "# Закрытие подключения\n",
        "connection.close()"
      ]
    },
    {
      "cell_type": "markdown",
      "id": "ec3c8db7-fa21-4a41-a994-1af63742a642",
      "metadata": {
        "id": "ec3c8db7-fa21-4a41-a994-1af63742a642"
      },
      "source": [
        "5. Сколько ключевых навыков в среднем указывают в вакансиях для DS?\n",
        "Ответ округлите до двух знаков после точки-разделителя."
      ]
    },
    {
      "cell_type": "code",
      "execution_count": null,
      "id": "949132bc-d5b6-4611-8218-0b9a504d74f4",
      "metadata": {
        "id": "949132bc-d5b6-4611-8218-0b9a504d74f4"
      },
      "outputs": [],
      "source": [
        "# текст запроса\n",
        "import psycopg2\n",
        "import pandas as pd\n",
        "\n",
        "# Параметры подключения\n",
        "DBNAME = 'project_sql'\n",
        "USER = 'skillfactory'\n",
        "PASSWORD = 'cCkxxLVrDE8EbvjueeMedPKt'\n",
        "HOST = '84.201.134.129'\n",
        "PORT = 5432\n",
        "\n",
        "# Создание подключения\n",
        "connection = psycopg2.connect(\n",
        "    dbname=DBNAME,\n",
        "    user=USER,\n",
        "    host=HOST,\n",
        "    password=PASSWORD,\n",
        "    port=PORT\n",
        ")\n",
        "\n",
        "# SQL-запрос с использованием f-строк\n",
        "query = f\"\"\"\n",
        "SELECT ROUND(AVG(LENGTH(Vacancies.key_skills) - LENGTH(REPLACE(Vacancies.key_skills, CHR(9), '')) + 1), 2) AS average_key_skills\n",
        "FROM Vacancies\n",
        "WHERE (\n",
        "  LOWER(Vacancies.name) LIKE '%data scientist%' OR\n",
        "  LOWER(Vacancies.name) LIKE '%data science%' OR\n",
        "  LOWER(Vacancies.name) LIKE '%исследователь данных%' OR\n",
        "  LOWER(Vacancies.name) LIKE '%ml%' AND LOWER(Vacancies.name) NOT LIKE '%html%' OR\n",
        "  LOWER(Vacancies.name) LIKE '%machine learning%' OR\n",
        "  LOWER(Vacancies.name) LIKE '%машинн%обучен%'\n",
        ")\n",
        "AND NOT (\n",
        "  LOWER(Vacancies.name) LIKE '%junior%' OR\n",
        "  LOWER(Vacancies.experience) = 'нет опыта' OR\n",
        "  LOWER(Vacancies.employment) = 'стажировка'\n",
        ")\n",
        "AND Vacancies.key_skills IS NOT NULL\n",
        "AND NOT (\n",
        "  Vacancies.key_skills LIKE '%  %' OR \n",
        "  Vacancies.key_skills LIKE '%,  %' OR \n",
        "  Vacancies.key_skills LIKE '  ,%'\n",
        ")\n",
        "AND NOT (Vacancies.key_skills LIKE '%,%' AND Vacancies.key_skills NOT LIKE '%,  %' AND Vacancies.key_skills NOT LIKE '%,  %');\n",
        "\"\"\"\n"
      ]
    },
    {
      "cell_type": "code",
      "execution_count": null,
      "id": "a3V24Tvmviqk",
      "metadata": {
        "id": "a3V24Tvmviqk"
      },
      "outputs": [],
      "source": [
        "# результат запроса\n",
        "# Получение результатов в датафрейм\n",
        "df = pd.read_sql_query(query, connection)\n",
        "\n",
        "# Вывод результата\n",
        "print(df)\n",
        "\n",
        "# Закрытие подключения\n",
        "connection.close()"
      ]
    },
    {
      "cell_type": "markdown",
      "id": "1041c17a-ca8f-4543-a0ca-32778914fb00",
      "metadata": {
        "id": "1041c17a-ca8f-4543-a0ca-32778914fb00"
      },
      "source": [
        "6. Напишите запрос, позволяющий вычислить, какую зарплату для DS в **среднем** указывают для каждого типа требуемого опыта (уникальное значение из поля *experience*). \n",
        "\n",
        "При решении задачи примите во внимание следующее:\n",
        "1. Рассматриваем только вакансии, у которых заполнено хотя бы одно из двух полей с зарплатой.\n",
        "2. Если заполнены оба поля с зарплатой, то считаем зарплату по каждой вакансии как сумму двух полей, делённую на 2. Если заполнено только одно из полей, то его и считаем зарплатой по вакансии.\n",
        "3. Если в расчётах участвует null, в результате он тоже даст null (посмотрите, что возвращает запрос select 1 + null). Чтобы избежать этой ситуацию, мы воспользуемся функцией [coalesce](https://postgrespro.ru/docs/postgresql/9.5/functions-conditional#functions-coalesce-nvl-ifnull), которая заменит null на значение, которое мы передадим. Например, посмотрите, что возвращает запрос `select 1 + coalesce(null, 0)`\n",
        "\n",
        "Выясните, на какую зарплату в среднем может рассчитывать дата-сайентист с опытом работы от 3 до 6 лет. Результат округлите до целого числа. "
      ]
    },
    {
      "cell_type": "code",
      "execution_count": null,
      "id": "6a743d39-5204-48d3-8271-b9f88e68d40e",
      "metadata": {
        "id": "6a743d39-5204-48d3-8271-b9f88e68d40e"
      },
      "outputs": [],
      "source": [
        "# текст запроса\n",
        "import psycopg2\n",
        "import pandas as pd\n",
        "\n",
        "# Параметры подключения\n",
        "DBNAME = 'project_sql'\n",
        "USER = 'skillfactory'\n",
        "PASSWORD = 'cCkxxLVrDE8EbvjueeMedPKt'\n",
        "HOST = '84.201.134.129'\n",
        "PORT = 5432\n",
        "\n",
        "# Создание подключения\n",
        "connection = psycopg2.connect(\n",
        "    dbname=DBNAME,\n",
        "    user=USER,\n",
        "    host=HOST,\n",
        "    password=PASSWORD,\n",
        "    port=PORT\n",
        ")\n",
        "\n",
        "# SQL-запрос\n",
        "query = \"\"\"\n",
        "SELECT\n",
        "  v.experience,\n",
        "  ROUND(AVG(COALESCE(\n",
        "    (v.salary_from + v.salary_to) / 2,\n",
        "    v.salary_from,\n",
        "    v.salary_to\n",
        "  ))) AS average_salary\n",
        "FROM vacancies v\n",
        "WHERE (\n",
        "    (v.name ILIKE '%data scientist%')\n",
        "    OR (lower(v.name) ILIKE '%data science%')\n",
        "    OR (v.name ILIKE '%исследователь данных%')\n",
        "    OR (v.name  LIKE '%ML%' AND  (v.name NOT iLIKE '%html%'))\n",
        "    OR (v.name ILIKE '%machine learning%')\n",
        "    OR (v.name ILIKE '%машинн%обучен%')\n",
        "  )\n",
        "  AND (v.salary_from IS NOT NULL OR v.salary_to IS NOT NULL)\n",
        "  AND NOT (\n",
        "    LOWER(v.name) LIKE '%junior%' OR\n",
        "    LOWER(v.experience) = 'нет опыта' OR\n",
        "    LOWER(v.employment) = 'стажировка'\n",
        "  )\n",
        "GROUP BY v.experience\n",
        "ORDER BY v.experience;\n",
        "\"\"\"\n",
        "\n",
        "# Получение результата в датафрейм\n",
        "df = pd.read_sql_query(query, connection)\n",
        "\n"
      ]
    },
    {
      "cell_type": "code",
      "execution_count": null,
      "id": "aRIJ0mZEwU1_",
      "metadata": {
        "id": "aRIJ0mZEwU1_"
      },
      "outputs": [],
      "source": [
        "# результат запроса\n",
        "# Вывод результата\n",
        "print(df)\n",
        "\n",
        "# Вывод средней зарплаты для опыта от 3 до 6 лет\n",
        "average_salary_3_6 = df[df['experience'] == 'От 3 до 6 лет']['average_salary'].iloc[0]\n",
        "print(f\"Средняя зарплата для опыта 'От 3 до 6 лет': {average_salary_3_6}\")\n",
        "\n",
        "# Закрытие подключения\n",
        "connection.close()"
      ]
    },
    {
      "cell_type": "code",
      "execution_count": null,
      "id": "7a6b1852",
      "metadata": {},
      "outputs": [],
      "source": [
        "# выводы по предметному анализу"
      ]
    },
    {
      "cell_type": "markdown",
      "id": "231266f4",
      "metadata": {},
      "source": [
        "1. Акцент на SQL и Python: Сосредоточьтесь на изучении SQL, PostgreSQL и Python, поскольку они являются ключевыми навыками для большинства вакансий.\n",
        "2. Развитие дополнительных навыков: Изучайте другие востребованные навыки для дата-сайентистов, такие как машинное обучение, глубокое обучение, статистический анализ, визуализация данных и т.д.\n",
        "3. Поиск практики и проектов: Получите практический опыт в сфере дата-сайенса, реализуя проекты или участвуя в конкурсах по данным.\n",
        "4. Создание портфолио: Соберите свои работы, проекты и решения в портфолио, чтобы продемонстрировать свой опыт и навыки потенциальным работодателям.\n"
      ]
    },
    {
      "cell_type": "markdown",
      "id": "c0ED6fh7wiBT",
      "metadata": {
        "id": "c0ED6fh7wiBT"
      },
      "source": [
        "# Общий вывод по проекту"
      ]
    },
    {
      "cell_type": "code",
      "execution_count": null,
      "id": "h9B3BL-wwj18",
      "metadata": {
        "id": "h9B3BL-wwj18"
      },
      "outputs": [],
      "source": [
        "# подведем итог исследования, обобщите выводы\n",
        "# здесь можно (это будет плюсом) провести дополнительные исследования данных, сделать прогнозы, продумать варианты продолжения исследования"
      ]
    },
    {
      "cell_type": "markdown",
      "id": "780b7aa3",
      "metadata": {},
      "source": [
        "**Рынок труда для дата-сайентистов:**\n",
        "\n",
        "1. **Высокий спрос:** В базе данных 1771 вакансия связана с обработкой данных, что свидетельствует о высоком спросе на специалистов в этой сфере.\n",
        "2. **Конкуренция:** Существует 51 вакансия для начинающих дата-сайентистов, что означает высокую конкуренцию за эти позиции.\n",
        "3. **Ключевые навыки:** SQL/PostgreSQL и Python являются ключевыми навыками для большинства вакансий.\n",
        "4. **Опыт:** Большинство вакансий требуют опыт работы от 3 до 6 лет, что означает, что начинающим дата-сайентистам будет нелегко найти работу без опыта.\n",
        "5. **География:** Москва, Санкт-Петербург, Минск, Новосибирск и Алматы - топ-5 городов по количеству вакансий.\n",
        "6. **Заработная плата:** Средняя нижняя граница зарплатной вилки 71065, верхняя - 110537.\n",
        "7. **Удалённая работа:** “Удалённая работа - Полная занятость” - второй по популярности тип рабочего графика и трудоустройства.\n",
        "\n",
        "**Выводы:**\n",
        "1. Рынок труда для дата-сайентистов динамично развивается.\n",
        "2. Спрос на специалистов высок, но конкуренция также высокая.\n",
        "3. Ключевые навыки и опыт являются важнейшими факторами для успешного поиска работы в этой сфере.\n",
        "4. Изучение трендов и прогнозирование будущих требований рынка труда является важным этапом в развитии карьеры в сфере дата-сайенса."
      ]
    }
  ],
  "metadata": {
    "colab": {
      "collapsed_sections": [
        "8d62a9f3-f64e-4fe7-bdac-c4dffa16155e"
      ],
      "provenance": []
    },
    "kernelspec": {
      "display_name": "Python 3 (ipykernel)",
      "language": "python",
      "name": "python3"
    },
    "language_info": {
      "codemirror_mode": {
        "name": "ipython",
        "version": 3
      },
      "file_extension": ".py",
      "mimetype": "text/x-python",
      "name": "python",
      "nbconvert_exporter": "python",
      "pygments_lexer": "ipython3",
      "version": "3.8.10"
    }
  },
  "nbformat": 4,
  "nbformat_minor": 5
}
